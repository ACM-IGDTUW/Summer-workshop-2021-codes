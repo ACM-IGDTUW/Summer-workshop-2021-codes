{
 "cells": [
  {
   "cell_type": "markdown",
   "metadata": {},
   "source": [
    "-----------------------------------------------------------------------------------------------------------------\n",
    "### Agenda for the session\n",
    "1. We will try to take a dataset and do certain operations using numpy and pandas\n",
    "\n",
    "2. You will be given a dataset and a series of problems, that are time bound. \n",
    "\n",
    "3. You will have to solve the problem within the time, using the resources and lectures of the day.\n",
    "\n",
    "4. You don't have to remember or memorize the syntax. Just go back refer the resources (or web search it) and solve the problem. Stack Overflow ki Jai Ho!\n",
    "\n",
    "5. The solutions and code explaination will be given. All is expected is the intent and drive to give it a shot. And this whole process is a bigger teacher than anything else.\n",
    "-----------------------------------------------------------------------------------------------------------------"
   ]
  },
  {
   "cell_type": "markdown",
   "metadata": {},
   "source": [
    "-----------------------------------------------------------------------------------------------------------------\n",
    "### Task Schedule\n",
    "1. Task 1 : 7 Mins; Solution : 3 mins <br>\n",
    "2. Task 2 : 7 Mins; Solution : 3 mins <br>\n",
    "3. Task 3 : 7 Mins; Solution : 3 mins <br>\n",
    "4. Task 4 : 7 Mins; Solution : 3 mins <br>\n",
    "5. Task 5 : 7 Mins; Solution : 3 mins <br>\n",
    "6. Task 6 : 7 Mins; Solution : 3 mins <br>\n",
    "7. Task 7 : 5 Mins; Solution : 3 mins <br>\n",
    "\n",
    "Buffer: 15 - 20 mins\n",
    "-----------------------------------------------------------------------------------------------------------------"
   ]
  },
  {
   "cell_type": "markdown",
   "metadata": {},
   "source": [
    "-----------------------------------------------------------------------------------------------------------------\n",
    "### Task 1: 10 mins. \n",
    "1. Read in the Dataset: Coronavirus Source Data https://ourworldindata.org/coronavirus-source-data<br>\n",
    "2. Print:<br>\n",
    "    a. print the first 5 rows and the last 5 rows (in different cells)<br>\n",
    "    b. the size of the dataframe i.e how many rows and columns<br>\n",
    "    c. datatype of each column<br>\n",
    "    d. basic statistics of each column<br>\n",
    "\n",
    "-----------------------------------------------------------------------------------------------------------------"
   ]
  },
  {
   "cell_type": "code",
   "execution_count": 18,
   "metadata": {},
   "outputs": [],
   "source": [
    "###Your code here"
   ]
  },
  {
   "cell_type": "markdown",
   "metadata": {},
   "source": [
    "-----------------------------------------------------------------------------------------------------------------\n",
    "### Task 2: 10 mins\n",
    "1. On the dataframe generated above, please answer the following:\n",
    "    \n",
    "    1. Data of how many countries is present? <br>\n",
    "    2. How many continents?<br>\n",
    "    3. How many rows belong to India?<br>\n",
    "    4. what is the window of dates for which data is provided?<br>\n",
    "-----------------------------------------------------------------------------------------------------------------"
   ]
  },
  {
   "cell_type": "code",
   "execution_count": null,
   "metadata": {},
   "outputs": [],
   "source": [
    "### Your code here"
   ]
  },
  {
   "cell_type": "markdown",
   "metadata": {},
   "source": [
    "-----------------------------------------------------------------------------------------------------------------\n",
    "### Task 3:  10 mins\n",
    "1. On the dataframe generated above, please answer the following:\n",
    "    \n",
    "    1. Extract Data of only India and make into a new dataframe.<br>\n",
    "    2. Extract only the total cases column.<br>\n",
    "    3. Convert total cases column into percentage. Percentage of total cases. Total cases is the number of cases as on the last date of the dataset. Use Numpy. DO NOT WRITE A LOOP!<br>\n",
    "    4. Add this newly generated column to \n",
    "-----------------------------------------------------------------------------------------------------------------"
   ]
  },
  {
   "cell_type": "code",
   "execution_count": null,
   "metadata": {},
   "outputs": [],
   "source": [
    "### Your code here"
   ]
  },
  {
   "cell_type": "markdown",
   "metadata": {},
   "source": [
    "-----------------------------------------------------------------------------------------------------------------\n",
    "### Task 4:  10 mins\n",
    "1. On the dataframe generated above, please answer the following:\n",
    "    \n",
    "    1. extract the total deaths and total cases as a numpy array<br>\n",
    "    2. transpose the array<br>\n",
    "    3. Crate new array which contains only total cases\n",
    "    4. from the total cases row , extract only rows which are more than 10000\n",
    "-----------------------------------------------------------------------------------------------------------------"
   ]
  },
  {
   "cell_type": "code",
   "execution_count": null,
   "metadata": {},
   "outputs": [],
   "source": [
    "### Your Code Here"
   ]
  },
  {
   "cell_type": "markdown",
   "metadata": {},
   "source": [
    "-----------------------------------------------------------------------------------------------------------------\n",
    "### Task 5:  10 mins\n",
    "1. On the dataframe generated above, please answer the following:\n",
    "    \n",
    "    1. Extract data only for 14-06-2020.<br>\n",
    "    2. which country has the max and min\n",
    "    3. take the top 10 and bottom 10 of total cases and total deaths\n",
    "-----------------------------------------------------------------------------------------------------------------"
   ]
  },
  {
   "cell_type": "code",
   "execution_count": 19,
   "metadata": {},
   "outputs": [],
   "source": [
    "### Your Code here"
   ]
  },
  {
   "cell_type": "markdown",
   "metadata": {},
   "source": [
    "-----------------------------------------------------------------------------------------------------------------\n",
    "### Task 6:  10 mins\n",
    "1. On the dataframe generated above, please answer the following:\n",
    "    \n",
    "    1. Use groupby and<br>\n",
    "        a. print number of countries in each group<br>\n",
    "        b. get the total cases and deaths count for each continent as on 14-06-2020.<br>\n",
    "        \n",
    "    2. use apply() and <br>\n",
    "        a. calculate the mortality rate for each row. and add that mortality data as a new column to the dataframe<br>\n",
    "        \n",
    "    3. do the same without apply<br>\n",
    "    \n",
    "-----------------------------------------------------------------------------------------------------------------"
   ]
  },
  {
   "cell_type": "code",
   "execution_count": 20,
   "metadata": {},
   "outputs": [],
   "source": [
    "### Your Code here"
   ]
  },
  {
   "cell_type": "markdown",
   "metadata": {},
   "source": [
    "-----------------------------------------------------------------------------------------------------------------\n",
    "### Task 7:  5 mins\n",
    "1. On the India's dataframe, plot the total number of cases, date wise\n",
    "2. Save the India Dataframa as CSV. \n",
    "-----------------------------------------------------------------------------------------------------------------"
   ]
  },
  {
   "cell_type": "code",
   "execution_count": 22,
   "metadata": {},
   "outputs": [],
   "source": [
    "### Your Code Here. "
   ]
  }
 ],
 "metadata": {
  "kernelspec": {
   "display_name": "Python 3",
   "language": "python",
   "name": "python3"
  },
  "language_info": {
   "codemirror_mode": {
    "name": "ipython",
    "version": 3
   },
   "file_extension": ".py",
   "mimetype": "text/x-python",
   "name": "python",
   "nbconvert_exporter": "python",
   "pygments_lexer": "ipython3",
   "version": "3.7.1"
  }
 },
 "nbformat": 4,
 "nbformat_minor": 4
}
