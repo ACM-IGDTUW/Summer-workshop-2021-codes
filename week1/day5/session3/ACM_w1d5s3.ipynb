{
  "nbformat": 4,
  "nbformat_minor": 0,
  "metadata": {
    "colab": {
      "name": "ACM w1d5s3.ipynb",
      "provenance": [],
      "collapsed_sections": []
    },
    "kernelspec": {
      "name": "python3",
      "display_name": "Python 3"
    }
  },
  "cells": [
    {
      "cell_type": "markdown",
      "metadata": {
        "id": "mfegozj64xDn",
        "colab_type": "text"
      },
      "source": [
        "# Legality"
      ]
    },
    {
      "cell_type": "markdown",
      "metadata": {
        "id": "vQFdGdZdm4jn",
        "colab_type": "text"
      },
      "source": [
        "```\n",
        "Mostly legal until you intentionally crash the website or use the data for\n",
        "commercial purposes. You should check the size of the webiste if you are going \n",
        "to scrape the entire website, use google [1]. You can scrape any kind of data \n",
        "that is publicly available but if the data is copyrighted then you cannot use \n",
        "it as your own [2].\n",
        "```"
      ]
    },
    {
      "cell_type": "markdown",
      "metadata": {
        "id": "lSp23tjMTXgN",
        "colab_type": "text"
      },
      "source": [
        "```\n",
        "However, even when data collection is possible technically,\n",
        "sometimes it is prohibited by terms of service (TOS),\n",
        "which restrict certain behaviors and uses of a site. Whether\n",
        "it is permissible, or ethical, for researchers to violate TOS\n",
        "in the course of collecting data is currently an open question\n",
        "within the social computing research community [4].\n",
        "```"
      ]
    },
    {
      "cell_type": "markdown",
      "metadata": {
        "id": "BM3T-H7HpxUC",
        "colab_type": "text"
      },
      "source": [
        "# Scrapy vs Beautiful Soup"
      ]
    },
    {
      "cell_type": "markdown",
      "metadata": {
        "id": "jh_xcaqtp1ls",
        "colab_type": "text"
      },
      "source": [
        "```\n",
        "Scrapy is a Web-spider or web scraper framework \n",
        "BeautifulSoup is a parsing library [3]\n",
        "```"
      ]
    },
    {
      "cell_type": "markdown",
      "metadata": {
        "id": "Mqcy4nk63fU-",
        "colab_type": "text"
      },
      "source": [
        "# Toscrape.com"
      ]
    },
    {
      "cell_type": "code",
      "metadata": {
        "id": "7u2hS2zxRnxE",
        "colab_type": "code",
        "colab": {}
      },
      "source": [
        "# toscrape.com\n",
        "import urllib\n",
        "from bs4 import BeautifulSoup\n",
        "\n",
        "rid = 1\n",
        "page = urllib.request.urlopen(\"http://quotes.toscrape.com/page/\"+str(rid)+\"/\")\n",
        "soup = BeautifulSoup(page, 'html.parser')\n",
        "\n",
        "print(soup.prettify())"
      ],
      "execution_count": null,
      "outputs": []
    },
    {
      "cell_type": "code",
      "metadata": {
        "id": "NbV-YayGgo0w",
        "colab_type": "code",
        "colab": {
          "base_uri": "https://localhost:8080/",
          "height": 54
        },
        "outputId": "71a31395-b97d-4b9f-a644-21a4a22a365d"
      },
      "source": [
        "a = soup.find_all('span', class_='text') #class_work\n",
        "# print(a)\n",
        "# for x in a:\n",
        "#     print(x.text)"
      ],
      "execution_count": null,
      "outputs": [
        {
          "output_type": "stream",
          "text": [
            "[<span class=\"text\" itemprop=\"text\">“The world as we have created it is a process of our thinking. It cannot be changed without changing our thinking.”</span>, <span class=\"text\" itemprop=\"text\">“It is our choices, Harry, that show what we truly are, far more than our abilities.”</span>, <span class=\"text\" itemprop=\"text\">“There are only two ways to live your life. One is as though nothing is a miracle. The other is as though everything is a miracle.”</span>, <span class=\"text\" itemprop=\"text\">“The person, be it gentleman or lady, who has not pleasure in a good novel, must be intolerably stupid.”</span>, <span class=\"text\" itemprop=\"text\">“Imperfection is beauty, madness is genius and it's better to be absolutely ridiculous than absolutely boring.”</span>, <span class=\"text\" itemprop=\"text\">“Try not to become a man of success. Rather become a man of value.”</span>, <span class=\"text\" itemprop=\"text\">“It is better to be hated for what you are than to be loved for what you are not.”</span>, <span class=\"text\" itemprop=\"text\">“I have not failed. I've just found 10,000 ways that won't work.”</span>, <span class=\"text\" itemprop=\"text\">“A woman is like a tea bag; you never know how strong it is until it's in hot water.”</span>, <span class=\"text\" itemprop=\"text\">“A day without sunshine is like, you know, night.”</span>]\n"
          ],
          "name": "stdout"
        }
      ]
    },
    {
      "cell_type": "code",
      "metadata": {
        "id": "JsSRuJ4yys9L",
        "colab_type": "code",
        "colab": {}
      },
      "source": [
        "\n",
        "ml = []\n",
        "for rid in range(1,100):\n",
        "    page = urllib.request.urlopen(\"http://quotes.toscrape.com/page/\"+str(rid)+\"/\")\n",
        "    soup = BeautifulSoup(page, 'html.parser')\n",
        "\n",
        "    if ('No quotes found!' in soup.text):\n",
        "        break\n",
        "\n",
        "    a = soup.find_all('span', attrs={'class':\"text\", \"itemprop\":\"text\"})\n",
        "    b = soup.find_all('small', attrs={'class':\"author\", \"itemprop\":\"author\"})\n",
        "    c = soup.find_all('meta', attrs={'class':\"keywords\"})\n",
        "\n",
        "    for x,y,z in zip(a,b,c):\n",
        "        tl = [x.text, y.text, z['content']]\n",
        "        ml.append(tl)\n",
        "        # print(x.text, y.text, z['content'])\n",
        "\n",
        "print(rid)\n",
        "for x in ml:\n",
        "    print(x)"
      ],
      "execution_count": null,
      "outputs": []
    },
    {
      "cell_type": "code",
      "metadata": {
        "id": "O60-ZwrA1uLl",
        "colab_type": "code",
        "colab": {
          "base_uri": "https://localhost:8080/",
          "height": 424
        },
        "outputId": "df205faf-df21-41b8-e27f-6f89b3df73e7"
      },
      "source": [
        "import pandas as pd \n",
        "\n",
        "df = pd.DataFrame(ml, columns=['Quote','Author','Tags'])\n",
        "df"
      ],
      "execution_count": null,
      "outputs": [
        {
          "output_type": "execute_result",
          "data": {
            "text/html": [
              "<div>\n",
              "<style scoped>\n",
              "    .dataframe tbody tr th:only-of-type {\n",
              "        vertical-align: middle;\n",
              "    }\n",
              "\n",
              "    .dataframe tbody tr th {\n",
              "        vertical-align: top;\n",
              "    }\n",
              "\n",
              "    .dataframe thead th {\n",
              "        text-align: right;\n",
              "    }\n",
              "</style>\n",
              "<table border=\"1\" class=\"dataframe\">\n",
              "  <thead>\n",
              "    <tr style=\"text-align: right;\">\n",
              "      <th></th>\n",
              "      <th>Quote</th>\n",
              "      <th>Author</th>\n",
              "      <th>Tags</th>\n",
              "    </tr>\n",
              "  </thead>\n",
              "  <tbody>\n",
              "    <tr>\n",
              "      <th>0</th>\n",
              "      <td>“The world as we have created it is a process ...</td>\n",
              "      <td>Albert Einstein</td>\n",
              "      <td>change,deep-thoughts,thinking,world</td>\n",
              "    </tr>\n",
              "    <tr>\n",
              "      <th>1</th>\n",
              "      <td>“It is our choices, Harry, that show what we t...</td>\n",
              "      <td>J.K. Rowling</td>\n",
              "      <td>abilities,choices</td>\n",
              "    </tr>\n",
              "    <tr>\n",
              "      <th>2</th>\n",
              "      <td>“There are only two ways to live your life. On...</td>\n",
              "      <td>Albert Einstein</td>\n",
              "      <td>inspirational,life,live,miracle,miracles</td>\n",
              "    </tr>\n",
              "    <tr>\n",
              "      <th>3</th>\n",
              "      <td>“The person, be it gentleman or lady, who has ...</td>\n",
              "      <td>Jane Austen</td>\n",
              "      <td>aliteracy,books,classic,humor</td>\n",
              "    </tr>\n",
              "    <tr>\n",
              "      <th>4</th>\n",
              "      <td>“Imperfection is beauty, madness is genius and...</td>\n",
              "      <td>Marilyn Monroe</td>\n",
              "      <td>be-yourself,inspirational</td>\n",
              "    </tr>\n",
              "    <tr>\n",
              "      <th>...</th>\n",
              "      <td>...</td>\n",
              "      <td>...</td>\n",
              "      <td>...</td>\n",
              "    </tr>\n",
              "    <tr>\n",
              "      <th>95</th>\n",
              "      <td>“You never really understand a person until yo...</td>\n",
              "      <td>Harper Lee</td>\n",
              "      <td>better-life-empathy</td>\n",
              "    </tr>\n",
              "    <tr>\n",
              "      <th>96</th>\n",
              "      <td>“You have to write the book that wants to be w...</td>\n",
              "      <td>Madeleine L'Engle</td>\n",
              "      <td>books,children,difficult,grown-ups,write,write...</td>\n",
              "    </tr>\n",
              "    <tr>\n",
              "      <th>97</th>\n",
              "      <td>“Never tell the truth to people who are not wo...</td>\n",
              "      <td>Mark Twain</td>\n",
              "      <td>truth</td>\n",
              "    </tr>\n",
              "    <tr>\n",
              "      <th>98</th>\n",
              "      <td>“A person's a person, no matter how small.”</td>\n",
              "      <td>Dr. Seuss</td>\n",
              "      <td>inspirational</td>\n",
              "    </tr>\n",
              "    <tr>\n",
              "      <th>99</th>\n",
              "      <td>“... a mind needs books as a sword needs a whe...</td>\n",
              "      <td>George R.R. Martin</td>\n",
              "      <td>books,mind</td>\n",
              "    </tr>\n",
              "  </tbody>\n",
              "</table>\n",
              "<p>100 rows × 3 columns</p>\n",
              "</div>"
            ],
            "text/plain": [
              "                                                Quote  ...                                               Tags\n",
              "0   “The world as we have created it is a process ...  ...                change,deep-thoughts,thinking,world\n",
              "1   “It is our choices, Harry, that show what we t...  ...                                  abilities,choices\n",
              "2   “There are only two ways to live your life. On...  ...           inspirational,life,live,miracle,miracles\n",
              "3   “The person, be it gentleman or lady, who has ...  ...                      aliteracy,books,classic,humor\n",
              "4   “Imperfection is beauty, madness is genius and...  ...                          be-yourself,inspirational\n",
              "..                                                ...  ...                                                ...\n",
              "95  “You never really understand a person until yo...  ...                                better-life-empathy\n",
              "96  “You have to write the book that wants to be w...  ...  books,children,difficult,grown-ups,write,write...\n",
              "97  “Never tell the truth to people who are not wo...  ...                                              truth\n",
              "98        “A person's a person, no matter how small.”  ...                                      inspirational\n",
              "99  “... a mind needs books as a sword needs a whe...  ...                                         books,mind\n",
              "\n",
              "[100 rows x 3 columns]"
            ]
          },
          "metadata": {
            "tags": []
          },
          "execution_count": 32
        }
      ]
    },
    {
      "cell_type": "markdown",
      "metadata": {
        "id": "yzqolza94p7M",
        "colab_type": "text"
      },
      "source": [
        "# PiB"
      ]
    },
    {
      "cell_type": "code",
      "metadata": {
        "id": "OMupwljt44xP",
        "colab_type": "code",
        "colab": {}
      },
      "source": [
        "import urllib\n",
        "from bs4 import BeautifulSoup\n",
        "\n",
        "rid = 209607\n",
        "page = urllib.request.urlopen(\"http://pibarchive.nic.in/archive2/erelcontent.aspx?relid=\"+str(rid))\n",
        "soup = BeautifulSoup(page, 'html.parser')\n",
        "\n",
        "print(soup.prettify())"
      ],
      "execution_count": null,
      "outputs": []
    },
    {
      "cell_type": "code",
      "metadata": {
        "id": "4eULsBbW44u2",
        "colab_type": "code",
        "colab": {}
      },
      "source": [
        "# a = soup.find('div', id=\"ministry\")\n",
        "a = soup.find_all('p')\n",
        "for x in a:\n",
        "    print(x.text)\n",
        "# print(soup.body.table.prettify())"
      ],
      "execution_count": null,
      "outputs": []
    },
    {
      "cell_type": "code",
      "metadata": {
        "id": "8l-h4Mkt44sy",
        "colab_type": "code",
        "colab": {}
      },
      "source": [
        "print(soup.body.table.tbody.tr.td.text)"
      ],
      "execution_count": null,
      "outputs": []
    },
    {
      "cell_type": "markdown",
      "metadata": {
        "id": "xh1hcnQvKOKH",
        "colab_type": "text"
      },
      "source": [
        "# ZipNet"
      ]
    },
    {
      "cell_type": "code",
      "metadata": {
        "id": "s6aV_lUXKQjF",
        "colab_type": "code",
        "colab": {}
      },
      "source": [
        "# https://zipnet.delhipolice.gov.in/index.php?page=un_identified_vehicles_search&criteria=browse_all&Page_No=1"
      ],
      "execution_count": null,
      "outputs": []
    },
    {
      "cell_type": "markdown",
      "metadata": {
        "id": "EULjjECs9OH2",
        "colab_type": "text"
      },
      "source": [
        "# web whatsapp"
      ]
    },
    {
      "cell_type": "markdown",
      "metadata": {
        "id": "7ykFke1L9RPK",
        "colab_type": "text"
      },
      "source": [
        "```\n",
        "locally\n",
        "```"
      ]
    },
    {
      "cell_type": "markdown",
      "metadata": {
        "id": "gS2K045B41Zf",
        "colab_type": "text"
      },
      "source": [
        "# Ref"
      ]
    },
    {
      "cell_type": "markdown",
      "metadata": {
        "id": "Pp5fKAGn45Pv",
        "colab_type": "text"
      },
      "source": [
        "```\n",
        "REFERENCES:\n",
        "[1]: https://www.tutorialspoint.com/python_web_scraping/legality_of_python_web_scraping.htm\n",
        "[2]: https://towardsdatascience.com/web-scraping-is-now-legal-6bf0e5730a78\n",
        "[3]: https://stackoverflow.com/questions/19687421/difference-between-beautifulsoup-and-scrapy-crawler \n",
        "[4]: Fiesler, C., Beard, N., & Keegan, B. C. (2020, May).No robots, spiders, or scrapers: Legal and ethical regulation of data collection methods in social media terms of service. In Proceedings of the International AAAI Conference on Web and Social Media (Vol. 14, pp. 187-196).\n",
        "```"
      ]
    }
  ]
}